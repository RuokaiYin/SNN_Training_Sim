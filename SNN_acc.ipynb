{
 "cells": [
  {
   "cell_type": "markdown",
   "metadata": {},
   "source": [
    "### SNN accelerator BP part"
   ]
  },
  {
   "cell_type": "code",
   "execution_count": 1,
   "metadata": {},
   "outputs": [],
   "source": [
    "import torch\n",
    "import torch.nn as nn\n",
    "import numpy as np"
   ]
  },
  {
   "cell_type": "code",
   "execution_count": 2,
   "metadata": {},
   "outputs": [],
   "source": [
    "device = torch.device(\"cpu\")\n",
    "# device = torch.device(\"cuda:0\" if torch.cuda.is_available() else \"cpu\")"
   ]
  },
  {
   "cell_type": "code",
   "execution_count": 3,
   "metadata": {},
   "outputs": [],
   "source": [
    "### initialize the activation function\n",
    "def activ_func(U):\n",
    "    return torch.ge(U,0).to(torch.float)\n",
    "\n",
    "### initialize the dereivative function\n",
    "\n",
    "\n",
    "def PoissonGen(inp, rescale_fac=2.0):\n",
    "    rand_inp = torch.rand_like(inp)\n",
    "    return torch.mul(torch.le(rand_inp * rescale_fac, torch.abs(inp)).float(), torch.sign(inp))\n",
    "\n",
    "def loss(inp):\n",
    "    \n",
    "    num_examples = inp.shape[0]\n",
    "    # get unnormalized probabilities\n",
    "    exp_scores = np.exp(inp)\n",
    "    # normalize them for each example\n",
    "    probs = exp_scores / np.sum(exp_scores, axis=1, keepdims=True)"
   ]
  },
  {
   "cell_type": "code",
   "execution_count": 103,
   "metadata": {},
   "outputs": [
    {
     "data": {
      "text/plain": [
       "torch.Size([7, 4])"
      ]
     },
     "execution_count": 103,
     "metadata": {},
     "output_type": "execute_result"
    }
   ],
   "source": [
    "x = torch.rand(1,4)\n",
    "inp = torch.rand(8,7)\n",
    "x = x.expand(inp.size()[-1],-1)\n",
    "x.size()"
   ]
  },
  {
   "cell_type": "code",
   "execution_count": null,
   "metadata": {},
   "outputs": [],
   "source": [
    "class Fully_Connected_Layer(nn.Module):\n",
    "    def __init__(self, size):\n",
    "        super(Fully_Connected_Layer, self).__init__()\n",
    "        \n",
    "        self.weight_list = [torch.rand(1,size)]\n",
    "        self.regs_U = [torch.zeros()]\n",
    "        self.regs_U_grad = []\n",
    "        self.regs_S = []\n",
    "    \n",
    "    def forward(self,inp):\n",
    "        "
   ]
  },
  {
   "cell_type": "code",
   "execution_count": 97,
   "metadata": {},
   "outputs": [],
   "source": [
    "class SNN_MNIST_sim(nn.Module):\n",
    "    def __init__(self):\n",
    "        super(SNN_MNIST_sim, self).__init__()\n",
    "\n",
    "        self.time_step = 5 # 5 time steps\n",
    "        \n",
    "        self.weight_list=[torch.rand([3,4],dtype=torch.float,device = device)*2-1,\n",
    "                        torch.rand([4,4],dtype=torch.float,device = device)*2-1,\n",
    "                        torch.rand([4,2],dtype=torch.float,device = device)*2-1]\n",
    "        self.regs_U = []\n",
    "        self.regs_U_grad = []\n",
    "        self.regs_S = []\n",
    "        \n",
    "        for i in range(self.time_step):\n",
    "            \n",
    "            self.regs_U.append([torch.zeros([4],dtype=torch.double,device=device),\n",
    "                          torch.zeros([4],dtype=torch.double,device=device),\n",
    "                          torch.zeros([2],dtype=torch.double,device=device)])\n",
    "\n",
    "            self.regs_U_grad.append([torch.zeros([4],dtype=torch.double,device=device),\n",
    "                          torch.zeros([4],dtype=torch.double,device=device),\n",
    "                          torch.zeros([2],dtype=torch.double,device=device)])\n",
    "\n",
    "            self.regs_S.append([torch.zeros([3],dtype=torch.double,device=device),\n",
    "                          torch.zeros([4],dtype=torch.double,device=device),\n",
    "                          torch.zeros([4],dtype=torch.double,device=device)])\n",
    "\n",
    "\n",
    "        ### initialize other parameters, the activation function, and its derivative\n",
    "        self.th_f = 0\n",
    "        self.a_leak = 1\n",
    "        self.k = 1\n",
    "        self.target = torch.tensor([1])\n",
    "        self.criterion = nn.CrossEntropyLoss()\n",
    "        self.loss = 0\n",
    "    \n",
    "    def forward(self, inp):\n",
    "               \n",
    "        U_prev_time = self.regs_U[0]\n",
    "        S_prev_time = self.regs_S[0]\n",
    "        \n",
    "        for t in range(self.time_step):\n",
    "            \n",
    "            spike_inp = PoissonGen(inp)\n",
    "            \n",
    "            # Input layer\n",
    "            self.regs_S[t][0].data = spike_inp\n",
    "            spatial_prev = torch.matmul(self.regs_S[t][0],self.weight_list[0])\n",
    "            \n",
    "            # Hidden layers\n",
    "            for l in range(len(self.weight_list)-1):\n",
    "                \n",
    "                self.regs_U[t][l].data = self.a_leak*U_prev_time[l]*(1-S_prev_time[l+1]) + spatial_prev\n",
    "                self.regs_S[t][l+1].data = activ_func(self.regs_U[t][l]-self.th_f)\n",
    "                spatial_prev = torch.matmul(self.regs_S[t][l+1],self.weight_list[l+1])\n",
    "                \n",
    "            # Output layer\n",
    "            self.regs_U[t][-1].data = U_prev_time[-1] + spatial_prev\n",
    "            self.regs_U_grad[t][-1].data = abs(self.regs_U[t][-1]-self.target)\n",
    "            m = nn.Softmax(dim=1)\n",
    "            output = m(self.regs_U[t][-1])\n",
    "            \n",
    "            self.loss = self.criterion(output, self.target)\n",
    "            U_prev_time = self.regs_U[t]\n",
    "            S_prev_time = self.regs_S[t]\n",
    "                    \n",
    "        return output\n",
    "    \n",
    "    \n",
    "    def backward(self):\n",
    "        \n",
    "        U_grad_later_time = self.regs_U_grad[0] # init to zeros\n",
    "        loss = torch.tensor([0])\n",
    "        \n",
    "        for t in range(self.time_step-1,-1,-1):\n",
    "            \n",
    "            # Output layer\n",
    "            self.regs_U_grad[t][-1].data = loss\n",
    "            \n",
    "            # Hidden layers\n",
    "            for l in range(len(self.weight_list)-1,-1,-1):\n",
    "                print(l)\n",
    "                \n",
    "                \n",
    "                \n",
    "                self.weight_list[l] = self.weight_list[l] + torch.matmul(torch.transpose(self.regs_U_grad[t][l],0,1),self.regs_S[t][l])\n",
    "                \n",
    "            \n",
    "            "
   ]
  },
  {
   "cell_type": "markdown",
   "metadata": {},
   "source": [
    "### Forwarding test"
   ]
  },
  {
   "cell_type": "code",
   "execution_count": 98,
   "metadata": {
    "scrolled": true
   },
   "outputs": [
    {
     "name": "stdout",
     "output_type": "stream",
     "text": [
      "2\n"
     ]
    },
    {
     "ename": "IndexError",
     "evalue": "Dimension out of range (expected to be in range of [-1, 0], but got 1)",
     "output_type": "error",
     "traceback": [
      "\u001b[1;31m---------------------------------------------------------------------------\u001b[0m",
      "\u001b[1;31mIndexError\u001b[0m                                Traceback (most recent call last)",
      "\u001b[1;32m<ipython-input-98-ee9010d865e5>\u001b[0m in \u001b[0;36m<module>\u001b[1;34m\u001b[0m\n\u001b[0;32m      3\u001b[0m \u001b[1;33m\u001b[0m\u001b[0m\n\u001b[0;32m      4\u001b[0m \u001b[0mout\u001b[0m \u001b[1;33m=\u001b[0m \u001b[0mtester\u001b[0m\u001b[1;33m(\u001b[0m\u001b[0minp\u001b[0m\u001b[1;33m)\u001b[0m\u001b[1;33m\u001b[0m\u001b[1;33m\u001b[0m\u001b[0m\n\u001b[1;32m----> 5\u001b[1;33m \u001b[0mtester\u001b[0m\u001b[1;33m.\u001b[0m\u001b[0mbackward\u001b[0m\u001b[1;33m(\u001b[0m\u001b[1;33m)\u001b[0m\u001b[1;33m\u001b[0m\u001b[1;33m\u001b[0m\u001b[0m\n\u001b[0m",
      "\u001b[1;32m<ipython-input-97-ca05752d8b1c>\u001b[0m in \u001b[0;36mbackward\u001b[1;34m(self)\u001b[0m\n\u001b[0;32m     84\u001b[0m \u001b[1;33m\u001b[0m\u001b[0m\n\u001b[0;32m     85\u001b[0m \u001b[1;33m\u001b[0m\u001b[0m\n\u001b[1;32m---> 86\u001b[1;33m                 \u001b[0mself\u001b[0m\u001b[1;33m.\u001b[0m\u001b[0mweight_list\u001b[0m\u001b[1;33m[\u001b[0m\u001b[0ml\u001b[0m\u001b[1;33m]\u001b[0m \u001b[1;33m=\u001b[0m \u001b[0mself\u001b[0m\u001b[1;33m.\u001b[0m\u001b[0mweight_list\u001b[0m\u001b[1;33m[\u001b[0m\u001b[0ml\u001b[0m\u001b[1;33m]\u001b[0m \u001b[1;33m+\u001b[0m \u001b[0mtorch\u001b[0m\u001b[1;33m.\u001b[0m\u001b[0mmatmul\u001b[0m\u001b[1;33m(\u001b[0m\u001b[0mtorch\u001b[0m\u001b[1;33m.\u001b[0m\u001b[0mtranspose\u001b[0m\u001b[1;33m(\u001b[0m\u001b[0mself\u001b[0m\u001b[1;33m.\u001b[0m\u001b[0mregs_U_grad\u001b[0m\u001b[1;33m[\u001b[0m\u001b[0mt\u001b[0m\u001b[1;33m]\u001b[0m\u001b[1;33m[\u001b[0m\u001b[0ml\u001b[0m\u001b[1;33m]\u001b[0m\u001b[1;33m,\u001b[0m\u001b[1;36m0\u001b[0m\u001b[1;33m,\u001b[0m\u001b[1;36m1\u001b[0m\u001b[1;33m)\u001b[0m\u001b[1;33m,\u001b[0m\u001b[0mself\u001b[0m\u001b[1;33m.\u001b[0m\u001b[0mregs_S\u001b[0m\u001b[1;33m[\u001b[0m\u001b[0mt\u001b[0m\u001b[1;33m]\u001b[0m\u001b[1;33m[\u001b[0m\u001b[0ml\u001b[0m\u001b[1;33m]\u001b[0m\u001b[1;33m)\u001b[0m\u001b[1;33m\u001b[0m\u001b[1;33m\u001b[0m\u001b[0m\n\u001b[0m\u001b[0;32m     87\u001b[0m \u001b[1;33m\u001b[0m\u001b[0m\n\u001b[0;32m     88\u001b[0m \u001b[1;33m\u001b[0m\u001b[0m\n",
      "\u001b[1;31mIndexError\u001b[0m: Dimension out of range (expected to be in range of [-1, 0], but got 1)"
     ]
    }
   ],
   "source": [
    "inp = torch.rand(1,3)\n",
    "tester = SNN_MNIST_sim()\n",
    "\n",
    "out = tester(inp)\n",
    "tester.backward()"
   ]
  },
  {
   "cell_type": "code",
   "execution_count": 74,
   "metadata": {},
   "outputs": [
    {
     "ename": "RuntimeError",
     "evalue": "size mismatch, m1: [1 x 4], m2: [2 x 1] at C:\\w\\1\\s\\tmp_conda_3.7_100118\\conda\\conda-bld\\pytorch_1579082551706\\work\\aten\\src\\TH/generic/THTensorMath.cpp:136",
     "output_type": "error",
     "traceback": [
      "\u001b[1;31m---------------------------------------------------------------------------\u001b[0m",
      "\u001b[1;31mRuntimeError\u001b[0m                              Traceback (most recent call last)",
      "\u001b[1;32m<ipython-input-74-85fdd66a7953>\u001b[0m in \u001b[0;36m<module>\u001b[1;34m\u001b[0m\n\u001b[0;32m      1\u001b[0m \u001b[0ma\u001b[0m \u001b[1;33m=\u001b[0m \u001b[0mtorch\u001b[0m\u001b[1;33m.\u001b[0m\u001b[0mtensor\u001b[0m\u001b[1;33m(\u001b[0m\u001b[1;33m[\u001b[0m\u001b[1;33m[\u001b[0m\u001b[1;36m1\u001b[0m\u001b[1;33m,\u001b[0m\u001b[1;36m2\u001b[0m\u001b[1;33m,\u001b[0m\u001b[1;36m3\u001b[0m\u001b[1;33m,\u001b[0m\u001b[1;36m4\u001b[0m\u001b[1;33m]\u001b[0m\u001b[1;33m]\u001b[0m\u001b[1;33m)\u001b[0m\u001b[1;33m\u001b[0m\u001b[1;33m\u001b[0m\u001b[0m\n\u001b[0;32m      2\u001b[0m \u001b[0mb\u001b[0m \u001b[1;33m=\u001b[0m \u001b[0mtorch\u001b[0m\u001b[1;33m.\u001b[0m\u001b[0mtranspose\u001b[0m\u001b[1;33m(\u001b[0m\u001b[0mtorch\u001b[0m\u001b[1;33m.\u001b[0m\u001b[0mtensor\u001b[0m\u001b[1;33m(\u001b[0m\u001b[1;33m[\u001b[0m\u001b[1;33m[\u001b[0m\u001b[1;36m1\u001b[0m\u001b[1;33m,\u001b[0m\u001b[1;36m0\u001b[0m\u001b[1;33m]\u001b[0m\u001b[1;33m]\u001b[0m\u001b[1;33m)\u001b[0m\u001b[1;33m,\u001b[0m\u001b[1;36m0\u001b[0m\u001b[1;33m,\u001b[0m\u001b[1;36m1\u001b[0m\u001b[1;33m)\u001b[0m\u001b[1;33m\u001b[0m\u001b[1;33m\u001b[0m\u001b[0m\n\u001b[1;32m----> 3\u001b[1;33m \u001b[0mtorch\u001b[0m\u001b[1;33m.\u001b[0m\u001b[0mmatmul\u001b[0m\u001b[1;33m(\u001b[0m\u001b[0ma\u001b[0m\u001b[1;33m,\u001b[0m\u001b[0mb\u001b[0m\u001b[1;33m)\u001b[0m\u001b[1;33m\u001b[0m\u001b[1;33m\u001b[0m\u001b[0m\n\u001b[0m",
      "\u001b[1;31mRuntimeError\u001b[0m: size mismatch, m1: [1 x 4], m2: [2 x 1] at C:\\w\\1\\s\\tmp_conda_3.7_100118\\conda\\conda-bld\\pytorch_1579082551706\\work\\aten\\src\\TH/generic/THTensorMath.cpp:136"
     ]
    }
   ],
   "source": [
    "a = torch.tensor([[1,2,3,4]])\n",
    "b = torch.transpose(torch.tensor([[1,0]]),0,1)\n",
    "torch.matmul()\n"
   ]
  },
  {
   "cell_type": "code",
   "execution_count": 72,
   "metadata": {},
   "outputs": [
    {
     "data": {
      "text/plain": [
       "tensor([[1],\n",
       "        [0]])"
      ]
     },
     "execution_count": 72,
     "metadata": {},
     "output_type": "execute_result"
    }
   ],
   "source": [
    "b = torch.transpose(torch.tensor([[1,0]]),0,1)\n",
    "b"
   ]
  },
  {
   "cell_type": "code",
   "execution_count": 273,
   "metadata": {},
   "outputs": [],
   "source": [
    "def activ_func(U):\n",
    "    return torch.gt(U,0)\n",
    "\n",
    "def de_func(U):\n",
    "    k=1\n",
    "    U = 1 - k*abs(U)\n",
    "    U[U<0]=0\n",
    "    return U"
   ]
  },
  {
   "cell_type": "code",
   "execution_count": 302,
   "metadata": {},
   "outputs": [
    {
     "data": {
      "text/plain": [
       "tensor([[0.3984, 0.6016]])"
      ]
     },
     "execution_count": 302,
     "metadata": {},
     "output_type": "execute_result"
    }
   ],
   "source": [
    "inp = torch.rand(1,28,28)\n",
    "inp = inp.view(1,-1)\n",
    "time_step = 5\n",
    "leak = 0.8\n",
    "\n",
    "s_regs_inp = torch.zeros(time_step,inp.size()[0],inp.size()[-1])\n",
    "\n",
    "fc_1 = nn.Linear(28*28,4)\n",
    "u_regs_1 = torch.zeros(time_step,inp.size()[0],fc_1.out_features)\n",
    "du_regs_1 = torch.zeros(time_step,inp.size()[0],fc_1.out_features)\n",
    "s_regs_1 = torch.zeros(time_step,inp.size()[0],fc_1.out_features)\n",
    "\n",
    "fc_2 = nn.Linear(4,6)\n",
    "u_regs_2 = torch.zeros(time_step,inp.size()[0],fc_2.out_features)\n",
    "du_regs_2 = torch.zeros(time_step,inp.size()[0],fc_2.out_features)\n",
    "s_regs_2 = torch.zeros(time_step,inp.size()[0],fc_2.out_features)\n",
    "\n",
    "fc_out = nn.Linear(6,2)\n",
    "u_regs_out = torch.zeros(time_step,inp.size()[0],fc_out.out_features)\n",
    "du_regs_out = torch.zeros(time_step,inp.size()[0],fc_out.out_features)\n",
    "\n",
    "accum = torch.zeros(inp.size()[0],fc_out.out_features)\n",
    "\n",
    "for t in range(time_step):\n",
    "    spike_inp = PoissonGen(inp)\n",
    "    s_regs_inp.data[t] = spike_inp\n",
    "    \n",
    "    U_1 = fc_1(spike_inp)\n",
    "    u_regs_1.data[t] = leak*u_regs_1[t-1]*(1-s_regs_1[t-1]) + U_1\n",
    "    s_regs_1.data[t] = activ_func(u_regs_1[t]-0.3)\n",
    "    \n",
    "    U_2 = fc_2(U_1)\n",
    "    u_regs_2.data[t] = leak*u_regs_2[t-1]*(1-s_regs_2[t-1]) + U_2\n",
    "    s_regs_2.data[t] = activ_func(u_regs_2[t]-0.3)\n",
    "    \n",
    "    out = fc_out(U_2)\n",
    "    u_regs_out.data[t] = u_regs_out[t-1] + out\n",
    "\n",
    "m = nn.Softmax(dim=1)\n",
    "output = m(u_regs_out[-1]/time_step)\n",
    "output"
   ]
  },
  {
   "cell_type": "code",
   "execution_count": 317,
   "metadata": {},
   "outputs": [
    {
     "data": {
      "text/plain": [
       "tensor(0.7999)"
      ]
     },
     "execution_count": 317,
     "metadata": {},
     "output_type": "execute_result"
    }
   ],
   "source": [
    "target = torch.tensor([0])\n",
    "criterion = nn.CrossEntropyLoss()\n",
    "loss = criterion(output,target)\n",
    "loss"
   ]
  },
  {
   "cell_type": "code",
   "execution_count": 321,
   "metadata": {},
   "outputs": [],
   "source": [
    "class model(nn.Module):\n",
    "    def __init__(self):\n",
    "        super(model, self).__init__()\n",
    "        \n",
    "        self.fc_1 = nn.Linear(28*28,4)\n",
    "        self.fc_2 = nn.Linear(4,6)\n",
    "        self.fc_out = nn.Linear(6,2)\n",
    "        self.lif1 = LIF()\n",
    "        self.lif2 = LIF()\n",
    "        \n",
    "    def forward(self, x, t):\n",
    "        x = self.fc_1(x)\n",
    "        x = self.lif1(x, t)\n",
    "        x = self.fc_2(x)\n",
    "        x = self.lif2(x, t)\n",
    "        x = self.fc_out(x)\n",
    "        \n",
    "        return x"
   ]
  },
  {
   "cell_type": "code",
   "execution_count": 326,
   "metadata": {},
   "outputs": [],
   "source": [
    "class LIF(nn.Module):\n",
    "    def __init__(self):\n",
    "        super(LIF, self).__init__()\n",
    "        \n",
    "        self.u_regs = None\n",
    "        self.du_regs = None\n",
    "        self.s_regs = None\n",
    "        self.leak = 0.8\n",
    "        self.time_steps = 5\n",
    "        self.thresh = 0.5\n",
    "        \n",
    "    def forward(self,inp, t):\n",
    "        if t == 0:\n",
    "            size = inp.shape\n",
    "            self.u_regs = torch.zeros_like(inp).expand(self.time_steps, *size)\n",
    "            self.u_regs[0] = inp\n",
    "            self.s_regs = torch.zeros_like(inp).expand(self.time_steps, *size)\n",
    "            vol = inp - self.thresh\n",
    "            spike = spike_function(vol, k=1)\n",
    "            self.s_regs[0] = spike\n",
    "        else:\n",
    "            self.u_regs[t] = self.leak * self.u_regs[t-1] * (1 - self.s_regs[t-1]) + inp\n",
    "            vol = self.u_regs[t] - self.thresh\n",
    "            spike = spike_function(vol, k=1)\n",
    "            self.s_regs[t] = spike\n",
    "\n",
    "        return spike\n",
    "\n",
    "        \n",
    "\n",
    "def spike_function(x, k):\n",
    "    x_fwd = torch.sign(x) * 0.5 + 0.5\n",
    "    x_bwd = torch.clamp(1 - k*x.abs(), min=0.)\n",
    "    return (x_fwd - x_bwd).detach() + x_bwd"
   ]
  },
  {
   "cell_type": "code",
   "execution_count": 328,
   "metadata": {},
   "outputs": [
    {
     "data": {
      "text/plain": [
       "tensor([[3.6845, 1.4626]], grad_fn=<AddBackward0>)"
      ]
     },
     "execution_count": 328,
     "metadata": {},
     "output_type": "execute_result"
    }
   ],
   "source": [
    "inp = torch.rand(1,28,28)\n",
    "inp = inp.view(1,-1)\n",
    "toy = model()\n",
    "out = 0\n",
    "for t in range(5):\n",
    "    spike_inp = PoissonGen(inp)\n",
    "    out = out + toy(spike_inp,t)\n",
    "out"
   ]
  },
  {
   "cell_type": "code",
   "execution_count": null,
   "metadata": {},
   "outputs": [],
   "source": []
  },
  {
   "cell_type": "code",
   "execution_count": 318,
   "metadata": {},
   "outputs": [],
   "source": [
    "du_regs_out[-1] = torch.exp(u_regs_out[-1])/torch.sum(u_regs_out[-1],1)\n",
    "du_regs_2[-1] = torch.matmul(du_regs_out[-1],fc_out.weight)*de_func(u_regs_2[-1])\n",
    "du_regs_1[-1] = torch.matmul(du_regs_2[-1],fc_2.weight)*de_func(u_regs_1[-1])\n",
    "\n",
    "w_inp_1 = torch.matmul(torch.transpose(du_regs_1[-1],0,1),s_regs_inp[-1])\n",
    "fc_1.weight.data += w_inp_1\n",
    "\n",
    "w_1_2 = torch.matmul(torch.transpose(du_regs_2[-1],0,1),s_regs_1[-1])\n",
    "fc_2.weight.data += w_1_2\n",
    "\n",
    "w_2_out = torch.matmul(torch.transpose(du_regs_out[-1],0,1),s_regs_2[-1])\n",
    "fc_out.weight.data += w_2_out\n"
   ]
  },
  {
   "cell_type": "code",
   "execution_count": null,
   "metadata": {},
   "outputs": [],
   "source": []
  },
  {
   "cell_type": "code",
   "execution_count": 320,
   "metadata": {},
   "outputs": [
    {
     "name": "stdout",
     "output_type": "stream",
     "text": [
      "3\n",
      "2\n",
      "1\n",
      "0\n"
     ]
    }
   ],
   "source": [
    "for t in range(time_step-2,-1,-1):\n",
    "    print(t)"
   ]
  },
  {
   "cell_type": "code",
   "execution_count": 284,
   "metadata": {},
   "outputs": [
    {
     "data": {
      "text/plain": [
       "tensor([[3],\n",
       "        [2]])"
      ]
     },
     "execution_count": 284,
     "metadata": {},
     "output_type": "execute_result"
    }
   ],
   "source": [
    "torch.tensor([[1],[0]]) + torch.tensor([[2],[2]])"
   ]
  },
  {
   "cell_type": "code",
   "execution_count": 313,
   "metadata": {},
   "outputs": [
    {
     "data": {
      "text/plain": [
       "torch.nn.parameter.Parameter"
      ]
     },
     "execution_count": 313,
     "metadata": {},
     "output_type": "execute_result"
    }
   ],
   "source": [
    "type(nn.Parameter(w_inp_1))"
   ]
  },
  {
   "cell_type": "code",
   "execution_count": null,
   "metadata": {},
   "outputs": [],
   "source": []
  }
 ],
 "metadata": {
  "kernelspec": {
   "display_name": "Python 3",
   "language": "python",
   "name": "python3"
  },
  "language_info": {
   "codemirror_mode": {
    "name": "ipython",
    "version": 3
   },
   "file_extension": ".py",
   "mimetype": "text/x-python",
   "name": "python",
   "nbconvert_exporter": "python",
   "pygments_lexer": "ipython3",
   "version": "3.7.11"
  }
 },
 "nbformat": 4,
 "nbformat_minor": 4
}
